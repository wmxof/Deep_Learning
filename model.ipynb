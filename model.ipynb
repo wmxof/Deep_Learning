{
 "cells": [
  {
   "cell_type": "code",
   "execution_count": 1,
   "id": "80591bb4",
   "metadata": {},
   "outputs": [],
   "source": [
    "import os\n",
    "import tensorflow as tf\n",
    "from tensorflow.keras.preprocessing.image import ImageDataGenerator\n",
    "from tensorflow.keras.applications.vgg16 import VGG16\n",
    "from tensorflow.keras.optimizers import Adam\n",
    "from tensorflow.keras.models import Sequential\n",
    "from tensorflow.keras.layers import Conv2D, MaxPooling2D, Flatten, Dense, Dropout\n",
    "\n",
    "import matplotlib.pyplot as plt"
   ]
  },
  {
   "cell_type": "code",
   "execution_count": 2,
   "id": "a6b6c357",
   "metadata": {},
   "outputs": [
    {
     "name": "stdout",
     "output_type": "stream",
     "text": [
      "Found 42749 images belonging to 14 classes.\n",
      "Found 5337 images belonging to 14 classes.\n",
      "Found 5356 images belonging to 14 classes.\n"
     ]
    }
   ],
   "source": [
    "train_dir =  \"C:/Users/lsbls/OneDrive/바탕 화면/final_symbols_split_ttv/train\"\n",
    "val_dir = \"C:/Users/lsbls/OneDrive/바탕 화면/final_symbols_split_ttv/val\"\n",
    "test_dir = \"C:/Users/lsbls/OneDrive/바탕 화면/final_symbols_split_ttv/test\"\n",
    "\n",
    "train_datagen = ImageDataGenerator(rescale=1/255)\n",
    "validation_datagen = ImageDataGenerator(rescale=1/255)\n",
    "test_datagen = ImageDataGenerator(rescale=1/255)\n",
    "\n",
    "#Create the train, validation and test sets\n",
    "train_generator = train_datagen.flow_from_directory(train_dir, target_size=(150, 150), batch_size=32, color_mode='rgb', class_mode=\"categorical\")\n",
    "validation_generator = validation_datagen.flow_from_directory(val_dir, target_size=(150, 150), batch_size=32, color_mode='rgb', class_mode=\"categorical\")\n",
    "test_generator = test_datagen.flow_from_directory(test_dir, target_size=(150, 150), batch_size=32, color_mode='rgb', class_mode=\"categorical\")"
   ]
  },
  {
   "cell_type": "code",
   "execution_count": 3,
   "id": "daec697b",
   "metadata": {},
   "outputs": [],
   "source": [
    "base_model = VGG16(input_shape=(150, 150, 3), weights='imagenet', include_top=False)\n",
    "\n",
    "for layer in base_model.layers:\n",
    "    layer.trainable = False\n",
    "\n",
    "model = Sequential()\n",
    "model.add(base_model)\n",
    "model.add(Flatten())\n",
    "model.add(Dense(256, activation='relu'))\n",
    "model.add(Dropout(0.5))\n",
    "model.add(Dense(14, activation='softmax'))"
   ]
  },
  {
   "cell_type": "code",
   "execution_count": 4,
   "id": "2b2fdad8",
   "metadata": {},
   "outputs": [
    {
     "name": "stdout",
     "output_type": "stream",
     "text": [
      "Epoch 1/10\n"
     ]
    },
    {
     "name": "stderr",
     "output_type": "stream",
     "text": [
      "C:\\Users\\lsbls\\anaconda3\\lib\\site-packages\\keras\\optimizers\\optimizer_v2\\adam.py:114: UserWarning: The `lr` argument is deprecated, use `learning_rate` instead.\n",
      "  super().__init__(name, **kwargs)\n"
     ]
    },
    {
     "name": "stdout",
     "output_type": "stream",
     "text": [
      "1336/1336 [==============================] - 1711s 1s/step - loss: 0.3294 - accuracy: 0.9146 - val_loss: 0.0738 - val_accuracy: 0.9824\n",
      "Epoch 2/10\n",
      "1336/1336 [==============================] - 1812s 1s/step - loss: 0.0854 - accuracy: 0.9786 - val_loss: 0.0395 - val_accuracy: 0.9933\n",
      "Epoch 3/10\n",
      "1336/1336 [==============================] - 1768s 1s/step - loss: 0.0559 - accuracy: 0.9857 - val_loss: 0.0285 - val_accuracy: 0.9931\n",
      "Epoch 4/10\n",
      "1336/1336 [==============================] - 1748s 1s/step - loss: 0.0394 - accuracy: 0.9896 - val_loss: 0.0207 - val_accuracy: 0.9948\n",
      "Epoch 5/10\n",
      "1336/1336 [==============================] - 1750s 1s/step - loss: 0.0301 - accuracy: 0.9920 - val_loss: 0.0151 - val_accuracy: 0.9955\n",
      "Epoch 6/10\n",
      "1336/1336 [==============================] - 1773s 1s/step - loss: 0.0250 - accuracy: 0.9930 - val_loss: 0.0139 - val_accuracy: 0.9957\n",
      "Epoch 7/10\n",
      "1336/1336 [==============================] - 1696s 1s/step - loss: 0.0197 - accuracy: 0.9950 - val_loss: 0.0123 - val_accuracy: 0.9957\n",
      "Epoch 8/10\n",
      "1336/1336 [==============================] - 1578s 1s/step - loss: 0.0173 - accuracy: 0.9952 - val_loss: 0.0132 - val_accuracy: 0.9957\n",
      "Epoch 9/10\n",
      "1336/1336 [==============================] - 1544s 1s/step - loss: 0.0144 - accuracy: 0.9963 - val_loss: 0.0111 - val_accuracy: 0.9963\n",
      "Epoch 10/10\n",
      "1336/1336 [==============================] - 1517s 1s/step - loss: 0.0124 - accuracy: 0.9967 - val_loss: 0.0084 - val_accuracy: 0.9972\n"
     ]
    }
   ],
   "source": [
    "model.compile(loss='categorical_crossentropy', optimizer=Adam(lr=1e-4), metrics=['accuracy'])\n",
    "\n",
    "history = model.fit(train_generator, epochs=10, validation_data=validation_generator)"
   ]
  },
  {
   "cell_type": "code",
   "execution_count": 5,
   "id": "53f1a9b6",
   "metadata": {},
   "outputs": [
    {
     "name": "stdout",
     "output_type": "stream",
     "text": [
      "168/168 [==============================] - 169s 1s/step - loss: 0.0101 - accuracy: 0.9968\n",
      "Test accuracy:  0.9968259930610657\n"
     ]
    }
   ],
   "source": [
    "test_loss, test_acc = model.evaluate(test_generator)\n",
    "print(\"Test accuracy: \", test_acc)"
   ]
  },
  {
   "cell_type": "code",
   "execution_count": 6,
   "id": "4a17ae97",
   "metadata": {},
   "outputs": [],
   "source": [
    "model.save(\"model_final.h5\")"
   ]
  },
  {
   "cell_type": "code",
   "execution_count": 7,
   "id": "ca63ede2",
   "metadata": {},
   "outputs": [],
   "source": [
    "import json\n",
    "# Get the dictionary containing each metric and the loss for each epoch\n",
    "history = history.history"
   ]
  },
  {
   "cell_type": "code",
   "execution_count": null,
   "id": "f5266501",
   "metadata": {},
   "outputs": [],
   "source": [
    "plt.figure(figsize=(8,7), dpi=150)\n",
    "acc = history['accuracy']\n",
    "val_acc = history['val_accuracy']\n",
    "\n",
    "epochs = range(len(acc))\n",
    "plt.plot(epochs, acc, label='Training set', color='mediumseagreen', linestyle='-', lw=2)\n",
    "plt.plot(epochs, val_acc, label='Validation set', color='orangered', linestyle='--', lw=2)\n",
    "plt.title('Fig 5(a). Training and Validation set accuracy', fontsize=16, pad=20)\n",
    "plt.legend([])\n",
    "\n",
    "plt.xlabel('Epochs', fontsize=16, labelpad=20)\n",
    "plt.ylabel('Accuracy', fontsize=16, labelpad=20)\n",
    "plt.tick_params(labelsize=14)\n",
    "\n",
    "plt.figlegend(loc='lower right', ncol=1, labelspacing=0.3,\n",
    "              title_fontsize=16, fontsize=14, bbox_to_anchor=(0.9, 0.14), \n",
    "              handletextpad=0.6, frameon=True)\n",
    "plt.show()"
   ]
  },
  {
   "cell_type": "code",
   "execution_count": null,
   "id": "d9f3982e",
   "metadata": {},
   "outputs": [],
   "source": []
  }
 ],
 "metadata": {
  "kernelspec": {
   "display_name": "Python 3 (ipykernel)",
   "language": "python",
   "name": "python3"
  },
  "language_info": {
   "codemirror_mode": {
    "name": "ipython",
    "version": 3
   },
   "file_extension": ".py",
   "mimetype": "text/x-python",
   "name": "python",
   "nbconvert_exporter": "python",
   "pygments_lexer": "ipython3",
   "version": "3.10.9"
  }
 },
 "nbformat": 4,
 "nbformat_minor": 5
}
